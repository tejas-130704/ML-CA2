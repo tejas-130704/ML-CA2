{
 "cells": [
  {
   "cell_type": "code",
   "execution_count": 1,
   "id": "f4850668",
   "metadata": {
    "execution": {
     "iopub.execute_input": "2024-08-14T17:37:07.979328Z",
     "iopub.status.busy": "2024-08-14T17:37:07.978805Z",
     "iopub.status.idle": "2024-08-14T17:37:10.226327Z",
     "shell.execute_reply": "2024-08-14T17:37:10.225186Z"
    },
    "papermill": {
     "duration": 2.258357,
     "end_time": "2024-08-14T17:37:10.229222",
     "exception": false,
     "start_time": "2024-08-14T17:37:07.970865",
     "status": "completed"
    },
    "tags": []
   },
   "outputs": [],
   "source": [
    "import pandas as pd\n",
    "import numpy as np\n",
    "import seaborn as sns\n",
    "import matplotlib.pyplot as plt\n",
    "import warnings\n",
    "warnings.filterwarnings(\"ignore\")"
   ]
  },
  {
   "cell_type": "code",
   "execution_count": 2,
   "id": "00bc9644",
   "metadata": {
    "execution": {
     "iopub.execute_input": "2024-08-14T17:37:10.243465Z",
     "iopub.status.busy": "2024-08-14T17:37:10.242892Z",
     "iopub.status.idle": "2024-08-14T17:37:10.283291Z",
     "shell.execute_reply": "2024-08-14T17:37:10.282139Z"
    },
    "papermill": {
     "duration": 0.050359,
     "end_time": "2024-08-14T17:37:10.285882",
     "exception": false,
     "start_time": "2024-08-14T17:37:10.235523",
     "status": "completed"
    },
    "tags": []
   },
   "outputs": [
    {
     "data": {
      "text/html": [
       "<div>\n",
       "<style scoped>\n",
       "    .dataframe tbody tr th:only-of-type {\n",
       "        vertical-align: middle;\n",
       "    }\n",
       "\n",
       "    .dataframe tbody tr th {\n",
       "        vertical-align: top;\n",
       "    }\n",
       "\n",
       "    .dataframe thead th {\n",
       "        text-align: right;\n",
       "    }\n",
       "</style>\n",
       "<table border=\"1\" class=\"dataframe\">\n",
       "  <thead>\n",
       "    <tr style=\"text-align: right;\">\n",
       "      <th></th>\n",
       "      <th>total_bill</th>\n",
       "      <th>tip</th>\n",
       "      <th>sex</th>\n",
       "      <th>smoker</th>\n",
       "      <th>day</th>\n",
       "      <th>time</th>\n",
       "      <th>size</th>\n",
       "    </tr>\n",
       "  </thead>\n",
       "  <tbody>\n",
       "    <tr>\n",
       "      <th>0</th>\n",
       "      <td>16.99</td>\n",
       "      <td>1.01</td>\n",
       "      <td>Female</td>\n",
       "      <td>No</td>\n",
       "      <td>Sun</td>\n",
       "      <td>Dinner</td>\n",
       "      <td>2</td>\n",
       "    </tr>\n",
       "    <tr>\n",
       "      <th>1</th>\n",
       "      <td>10.34</td>\n",
       "      <td>1.66</td>\n",
       "      <td>Male</td>\n",
       "      <td>No</td>\n",
       "      <td>Sun</td>\n",
       "      <td>Dinner</td>\n",
       "      <td>3</td>\n",
       "    </tr>\n",
       "    <tr>\n",
       "      <th>2</th>\n",
       "      <td>21.01</td>\n",
       "      <td>3.50</td>\n",
       "      <td>Male</td>\n",
       "      <td>No</td>\n",
       "      <td>Sun</td>\n",
       "      <td>Dinner</td>\n",
       "      <td>3</td>\n",
       "    </tr>\n",
       "    <tr>\n",
       "      <th>3</th>\n",
       "      <td>23.68</td>\n",
       "      <td>3.31</td>\n",
       "      <td>Male</td>\n",
       "      <td>No</td>\n",
       "      <td>Sun</td>\n",
       "      <td>Dinner</td>\n",
       "      <td>2</td>\n",
       "    </tr>\n",
       "    <tr>\n",
       "      <th>4</th>\n",
       "      <td>24.59</td>\n",
       "      <td>3.61</td>\n",
       "      <td>Female</td>\n",
       "      <td>No</td>\n",
       "      <td>Sun</td>\n",
       "      <td>Dinner</td>\n",
       "      <td>4</td>\n",
       "    </tr>\n",
       "  </tbody>\n",
       "</table>\n",
       "</div>"
      ],
      "text/plain": [
       "   total_bill   tip     sex smoker  day    time  size\n",
       "0       16.99  1.01  Female     No  Sun  Dinner     2\n",
       "1       10.34  1.66    Male     No  Sun  Dinner     3\n",
       "2       21.01  3.50    Male     No  Sun  Dinner     3\n",
       "3       23.68  3.31    Male     No  Sun  Dinner     2\n",
       "4       24.59  3.61  Female     No  Sun  Dinner     4"
      ]
     },
     "execution_count": 2,
     "metadata": {},
     "output_type": "execute_result"
    }
   ],
   "source": [
    "data=pd.read_csv(\"/kaggle/input/waiter-tip-prediction/tips.csv\")\n",
    "data.head(5)"
   ]
  },
  {
   "cell_type": "code",
   "execution_count": 3,
   "id": "c3f0e486",
   "metadata": {
    "execution": {
     "iopub.execute_input": "2024-08-14T17:37:10.299569Z",
     "iopub.status.busy": "2024-08-14T17:37:10.299173Z",
     "iopub.status.idle": "2024-08-14T17:37:10.322643Z",
     "shell.execute_reply": "2024-08-14T17:37:10.321565Z"
    },
    "papermill": {
     "duration": 0.033622,
     "end_time": "2024-08-14T17:37:10.325481",
     "exception": false,
     "start_time": "2024-08-14T17:37:10.291859",
     "status": "completed"
    },
    "tags": []
   },
   "outputs": [
    {
     "name": "stdout",
     "output_type": "stream",
     "text": [
      "<class 'pandas.core.frame.DataFrame'>\n",
      "RangeIndex: 244 entries, 0 to 243\n",
      "Data columns (total 7 columns):\n",
      " #   Column      Non-Null Count  Dtype  \n",
      "---  ------      --------------  -----  \n",
      " 0   total_bill  244 non-null    float64\n",
      " 1   tip         244 non-null    float64\n",
      " 2   sex         244 non-null    object \n",
      " 3   smoker      244 non-null    object \n",
      " 4   day         244 non-null    object \n",
      " 5   time        244 non-null    object \n",
      " 6   size        244 non-null    int64  \n",
      "dtypes: float64(2), int64(1), object(4)\n",
      "memory usage: 13.5+ KB\n"
     ]
    }
   ],
   "source": [
    "data.info()"
   ]
  },
  {
   "cell_type": "code",
   "execution_count": 4,
   "id": "94ebce25",
   "metadata": {
    "execution": {
     "iopub.execute_input": "2024-08-14T17:37:10.339580Z",
     "iopub.status.busy": "2024-08-14T17:37:10.339164Z",
     "iopub.status.idle": "2024-08-14T17:37:10.348156Z",
     "shell.execute_reply": "2024-08-14T17:37:10.347036Z"
    },
    "papermill": {
     "duration": 0.018971,
     "end_time": "2024-08-14T17:37:10.350630",
     "exception": false,
     "start_time": "2024-08-14T17:37:10.331659",
     "status": "completed"
    },
    "tags": []
   },
   "outputs": [
    {
     "data": {
      "text/plain": [
       "total_bill    0\n",
       "tip           0\n",
       "sex           0\n",
       "smoker        0\n",
       "day           0\n",
       "time          0\n",
       "size          0\n",
       "dtype: int64"
      ]
     },
     "execution_count": 4,
     "metadata": {},
     "output_type": "execute_result"
    }
   ],
   "source": [
    "data.isnull().sum()"
   ]
  },
  {
   "cell_type": "code",
   "execution_count": 5,
   "id": "55bef657",
   "metadata": {
    "execution": {
     "iopub.execute_input": "2024-08-14T17:37:10.365745Z",
     "iopub.status.busy": "2024-08-14T17:37:10.364755Z",
     "iopub.status.idle": "2024-08-14T17:37:11.194350Z",
     "shell.execute_reply": "2024-08-14T17:37:11.193275Z"
    },
    "papermill": {
     "duration": 0.839886,
     "end_time": "2024-08-14T17:37:11.196927",
     "exception": false,
     "start_time": "2024-08-14T17:37:10.357041",
     "status": "completed"
    },
    "tags": []
   },
   "outputs": [
    {
     "data": {
      "text/plain": [
       "array([[<Axes: title={'center': 'total_bill'}>,\n",
       "        <Axes: title={'center': 'tip'}>],\n",
       "       [<Axes: title={'center': 'size'}>, <Axes: >]], dtype=object)"
      ]
     },
     "execution_count": 5,
     "metadata": {},
     "output_type": "execute_result"
    },
    {
     "data": {
      "image/png": "[encoded data removed]",
      "text/plain": [
       "<Figure size 640x480 with 4 Axes>"
      ]
     },
     "metadata": {},
     "output_type": "display_data"
    }
   ],
   "source": [
    "data.hist(color=\"purple\")"
   ]
  },
  {
   "cell_type": "code",
   "execution_count": 6,
   "id": "0f5ee823",
   "metadata": {
    "execution": {
     "iopub.execute_input": "2024-08-14T17:37:11.213388Z",
     "iopub.status.busy": "2024-08-14T17:37:11.212375Z",
     "iopub.status.idle": "2024-08-14T17:37:11.391230Z",
     "shell.execute_reply": "2024-08-14T17:37:11.390059Z"
    },
    "papermill": {
     "duration": 0.189884,
     "end_time": "2024-08-14T17:37:11.393784",
     "exception": false,
     "start_time": "2024-08-14T17:37:11.203900",
     "status": "completed"
    },
    "tags": []
   },
   "outputs": [
    {
     "data": {
      "text/html": [
       "<div>\n",
       "<style scoped>\n",
       "    .dataframe tbody tr th:only-of-type {\n",
       "        vertical-align: middle;\n",
       "    }\n",
       "\n",
       "    .dataframe tbody tr th {\n",
       "        vertical-align: top;\n",
       "    }\n",
       "\n",
       "    .dataframe thead th {\n",
       "        text-align: right;\n",
       "    }\n",
       "</style>\n",
       "<table border=\"1\" class=\"dataframe\">\n",
       "  <thead>\n",
       "    <tr style=\"text-align: right;\">\n",
       "      <th></th>\n",
       "      <th>total_bill</th>\n",
       "      <th>tip</th>\n",
       "      <th>sex</th>\n",
       "      <th>smoker</th>\n",
       "      <th>day</th>\n",
       "      <th>time</th>\n",
       "      <th>size</th>\n",
       "    </tr>\n",
       "  </thead>\n",
       "  <tbody>\n",
       "    <tr>\n",
       "      <th>0</th>\n",
       "      <td>16.99</td>\n",
       "      <td>1.01</td>\n",
       "      <td>0</td>\n",
       "      <td>0</td>\n",
       "      <td>2</td>\n",
       "      <td>0</td>\n",
       "      <td>2</td>\n",
       "    </tr>\n",
       "    <tr>\n",
       "      <th>1</th>\n",
       "      <td>10.34</td>\n",
       "      <td>1.66</td>\n",
       "      <td>1</td>\n",
       "      <td>0</td>\n",
       "      <td>2</td>\n",
       "      <td>0</td>\n",
       "      <td>3</td>\n",
       "    </tr>\n",
       "    <tr>\n",
       "      <th>2</th>\n",
       "      <td>21.01</td>\n",
       "      <td>3.50</td>\n",
       "      <td>1</td>\n",
       "      <td>0</td>\n",
       "      <td>2</td>\n",
       "      <td>0</td>\n",
       "      <td>3</td>\n",
       "    </tr>\n",
       "    <tr>\n",
       "      <th>3</th>\n",
       "      <td>23.68</td>\n",
       "      <td>3.31</td>\n",
       "      <td>1</td>\n",
       "      <td>0</td>\n",
       "      <td>2</td>\n",
       "      <td>0</td>\n",
       "      <td>2</td>\n",
       "    </tr>\n",
       "    <tr>\n",
       "      <th>4</th>\n",
       "      <td>24.59</td>\n",
       "      <td>3.61</td>\n",
       "      <td>0</td>\n",
       "      <td>0</td>\n",
       "      <td>2</td>\n",
       "      <td>0</td>\n",
       "      <td>4</td>\n",
       "    </tr>\n",
       "  </tbody>\n",
       "</table>\n",
       "</div>"
      ],
      "text/plain": [
       "   total_bill   tip  sex  smoker  day  time  size\n",
       "0       16.99  1.01    0       0    2     0     2\n",
       "1       10.34  1.66    1       0    2     0     3\n",
       "2       21.01  3.50    1       0    2     0     3\n",
       "3       23.68  3.31    1       0    2     0     2\n",
       "4       24.59  3.61    0       0    2     0     4"
      ]
     },
     "execution_count": 6,
     "metadata": {},
     "output_type": "execute_result"
    }
   ],
   "source": [
    "from sklearn.preprocessing import LabelEncoder\n",
    "le=LabelEncoder()\n",
    "data[\"sex\"]=le.fit_transform(data[\"sex\"])\n",
    "data[\"smoker\"]=le.fit_transform(data[\"smoker\"])\n",
    "data[\"day\"]=le.fit_transform(data[\"day\"])\n",
    "data[\"time\"]=le.fit_transform(data[\"time\"])\n",
    "data.head(5)"
   ]
  },
  {
   "cell_type": "code",
   "execution_count": 7,
   "id": "045dc8aa",
   "metadata": {
    "execution": {
     "iopub.execute_input": "2024-08-14T17:37:11.410385Z",
     "iopub.status.busy": "2024-08-14T17:37:11.409943Z",
     "iopub.status.idle": "2024-08-14T17:37:11.997014Z",
     "shell.execute_reply": "2024-08-14T17:37:11.993205Z"
    },
    "papermill": {
     "duration": 0.599493,
     "end_time": "2024-08-14T17:37:12.000734",
     "exception": false,
     "start_time": "2024-08-14T17:37:11.401241",
     "status": "completed"
    },
    "tags": []
   },
   "outputs": [
    {
     "data": {
      "text/plain": [
       "<Axes: >"
      ]
     },
     "execution_count": 7,
     "metadata": {},
     "output_type": "execute_result"
    },
    {
     "data": {
      "image/png": "[encoded data removed]",
      "text/plain": [
       "<Figure size 640x480 with 2 Axes>"
      ]
     },
     "metadata": {},
     "output_type": "display_data"
    }
   ],
   "source": [
    "sns.heatmap(data.corr(),annot=True)"
   ]
  },
  {
   "cell_type": "code",
   "execution_count": 8,
   "id": "4dee018d",
   "metadata": {
    "execution": {
     "iopub.execute_input": "2024-08-14T17:37:12.023079Z",
     "iopub.status.busy": "2024-08-14T17:37:12.022069Z",
     "iopub.status.idle": "2024-08-14T17:37:12.027411Z",
     "shell.execute_reply": "2024-08-14T17:37:12.026348Z"
    },
    "papermill": {
     "duration": 0.017967,
     "end_time": "2024-08-14T17:37:12.030003",
     "exception": false,
     "start_time": "2024-08-14T17:37:12.012036",
     "status": "completed"
    },
    "tags": []
   },
   "outputs": [],
   "source": [
    "from sklearn.preprocessing import StandardScaler\n",
    "ss=StandardScaler()"
   ]
  },
  {
   "cell_type": "code",
   "execution_count": 9,
   "id": "88f94e80",
   "metadata": {
    "execution": {
     "iopub.execute_input": "2024-08-14T17:37:12.049035Z",
     "iopub.status.busy": "2024-08-14T17:37:12.048621Z",
     "iopub.status.idle": "2024-08-14T17:37:12.055442Z",
     "shell.execute_reply": "2024-08-14T17:37:12.054166Z"
    },
    "papermill": {
     "duration": 0.019233,
     "end_time": "2024-08-14T17:37:12.057876",
     "exception": false,
     "start_time": "2024-08-14T17:37:12.038643",
     "status": "completed"
    },
    "tags": []
   },
   "outputs": [],
   "source": [
    "x=data.drop([\"tip\"],axis=1)\n",
    "y=data[\"tip\"]"
   ]
  },
  {
   "cell_type": "code",
   "execution_count": 10,
   "id": "3961b2ed",
   "metadata": {
    "execution": {
     "iopub.execute_input": "2024-08-14T17:37:12.079555Z",
     "iopub.status.busy": "2024-08-14T17:37:12.078619Z",
     "iopub.status.idle": "2024-08-14T17:37:12.091005Z",
     "shell.execute_reply": "2024-08-14T17:37:12.089607Z"
    },
    "papermill": {
     "duration": 0.028544,
     "end_time": "2024-08-14T17:37:12.095338",
     "exception": false,
     "start_time": "2024-08-14T17:37:12.066794",
     "status": "completed"
    },
    "tags": []
   },
   "outputs": [],
   "source": [
    "x=ss.fit_transform(x)"
   ]
  },
  {
   "cell_type": "code",
   "execution_count": 11,
   "id": "ed0e70a4",
   "metadata": {
    "execution": {
     "iopub.execute_input": "2024-08-14T17:37:12.116555Z",
     "iopub.status.busy": "2024-08-14T17:37:12.115571Z",
     "iopub.status.idle": "2024-08-14T17:37:12.227188Z",
     "shell.execute_reply": "2024-08-14T17:37:12.226256Z"
    },
    "papermill": {
     "duration": 0.125,
     "end_time": "2024-08-14T17:37:12.230052",
     "exception": false,
     "start_time": "2024-08-14T17:37:12.105052",
     "status": "completed"
    },
    "tags": []
   },
   "outputs": [],
   "source": [
    "from sklearn.model_selection import train_test_split\n",
    "x_train,x_test,y_train,y_test=train_test_split(x,y,test_size=0.2,random_state=42)"
   ]
  },
  {
   "cell_type": "code",
   "execution_count": 12,
   "id": "2ffb5b3b",
   "metadata": {
    "execution": {
     "iopub.execute_input": "2024-08-14T17:37:12.249810Z",
     "iopub.status.busy": "2024-08-14T17:37:12.249387Z",
     "iopub.status.idle": "2024-08-14T17:37:12.497576Z",
     "shell.execute_reply": "2024-08-14T17:37:12.496555Z"
    },
    "papermill": {
     "duration": 0.261052,
     "end_time": "2024-08-14T17:37:12.500316",
     "exception": false,
     "start_time": "2024-08-14T17:37:12.239264",
     "status": "completed"
    },
    "tags": []
   },
   "outputs": [],
   "source": [
    "from sklearn.ensemble import RandomForestRegressor\n",
    "from sklearn.model_selection import GridSearchCV\n",
    "regressor=RandomForestRegressor()"
   ]
  },
  {
   "cell_type": "code",
   "execution_count": 13,
   "id": "00b3d5f8",
   "metadata": {
    "execution": {
     "iopub.execute_input": "2024-08-14T17:37:12.520410Z",
     "iopub.status.busy": "2024-08-14T17:37:12.519956Z",
     "iopub.status.idle": "2024-08-14T17:37:12.525456Z",
     "shell.execute_reply": "2024-08-14T17:37:12.524309Z"
    },
    "papermill": {
     "duration": 0.01837,
     "end_time": "2024-08-14T17:37:12.527973",
     "exception": false,
     "start_time": "2024-08-14T17:37:12.509603",
     "status": "completed"
    },
    "tags": []
   },
   "outputs": [],
   "source": [
    "paramaters={'criterion':['squared_error','absolute_error','friedman_mse','poisson']}"
   ]
  },
  {
   "cell_type": "code",
   "execution_count": 14,
   "id": "a00731e6",
   "metadata": {
    "execution": {
     "iopub.execute_input": "2024-08-14T17:37:12.547584Z",
     "iopub.status.busy": "2024-08-14T17:37:12.547176Z",
     "iopub.status.idle": "2024-08-14T17:37:17.733682Z",
     "shell.execute_reply": "2024-08-14T17:37:17.732399Z"
    },
    "papermill": {
     "duration": 5.199404,
     "end_time": "2024-08-14T17:37:17.736382",
     "exception": false,
     "start_time": "2024-08-14T17:37:12.536978",
     "status": "completed"
    },
    "tags": []
   },
   "outputs": [
    {
     "data": {
      "text/html": [
       "<style>#sk-container-id-1 {color: black;background-color: white;}#sk-container-id-1 pre{padding: 0;}#sk-container-id-1 div.sk-toggleable {background-color: white;}#sk-container-id-1 label.sk-toggleable__label {cursor: pointer;display: block;width: 100%;margin-bottom: 0;padding: 0.3em;box-sizing: border-box;text-align: center;}#sk-container-id-1 label.sk-toggleable__label-arrow:before {content: \"▸\";float: left;margin-right: 0.25em;color: #696969;}#sk-container-id-1 label.sk-toggleable__label-arrow:hover:before {color: black;}#sk-container-id-1 div.sk-estimator:hover label.sk-toggleable__label-arrow:before {color: black;}#sk-container-id-1 div.sk-toggleable__content {max-height: 0;max-width: 0;overflow: hidden;text-align: left;background-color: #f0f8ff;}#sk-container-id-1 div.sk-toggleable__content pre {margin: 0.2em;color: black;border-radius: 0.25em;background-color: #f0f8ff;}#sk-container-id-1 input.sk-toggleable__control:checked~div.sk-toggleable__content {max-height: 200px;max-width: 100%;overflow: auto;}#sk-container-id-1 input.sk-toggleable__control:checked~label.sk-toggleable__label-arrow:before {content: \"▾\";}#sk-container-id-1 div.sk-estimator input.sk-toggleable__control:checked~label.sk-toggleable__label {background-color: #d4ebff;}#sk-container-id-1 div.sk-label input.sk-toggleable__control:checked~label.sk-toggleable__label {background-color: #d4ebff;}#sk-container-id-1 input.sk-hidden--visually {border: 0;clip: rect(1px 1px 1px 1px);clip: rect(1px, 1px, 1px, 1px);height: 1px;margin: -1px;overflow: hidden;padding: 0;position: absolute;width: 1px;}#sk-container-id-1 div.sk-estimator {font-family: monospace;background-color: #f0f8ff;border: 1px dotted black;border-radius: 0.25em;box-sizing: border-box;margin-bottom: 0.5em;}#sk-container-id-1 div.sk-estimator:hover {background-color: #d4ebff;}#sk-container-id-1 div.sk-parallel-item::after {content: \"\";width: 100%;border-bottom: 1px solid gray;flex-grow: 1;}#sk-container-id-1 div.sk-label:hover label.sk-toggleable__label {background-color: #d4ebff;}#sk-container-id-1 div.sk-serial::before {content: \"\";position: absolute;border-left: 1px solid gray;box-sizing: border-box;top: 0;bottom: 0;left: 50%;z-index: 0;}#sk-container-id-1 div.sk-serial {display: flex;flex-direction: column;align-items: center;background-color: white;padding-right: 0.2em;padding-left: 0.2em;position: relative;}#sk-container-id-1 div.sk-item {position: relative;z-index: 1;}#sk-container-id-1 div.sk-parallel {display: flex;align-items: stretch;justify-content: center;background-color: white;position: relative;}#sk-container-id-1 div.sk-item::before, #sk-container-id-1 div.sk-parallel-item::before {content: \"\";position: absolute;border-left: 1px solid gray;box-sizing: border-box;top: 0;bottom: 0;left: 50%;z-index: -1;}#sk-container-id-1 div.sk-parallel-item {display: flex;flex-direction: column;z-index: 1;position: relative;background-color: white;}#sk-container-id-1 div.sk-parallel-item:first-child::after {align-self: flex-end;width: 50%;}#sk-container-id-1 div.sk-parallel-item:last-child::after {align-self: flex-start;width: 50%;}#sk-container-id-1 div.sk-parallel-item:only-child::after {width: 0;}#sk-container-id-1 div.sk-dashed-wrapped {border: 1px dashed gray;margin: 0 0.4em 0.5em 0.4em;box-sizing: border-box;padding-bottom: 0.4em;background-color: white;}#sk-container-id-1 div.sk-label label {font-family: monospace;font-weight: bold;display: inline-block;line-height: 1.2em;}#sk-container-id-1 div.sk-label-container {text-align: center;}#sk-container-id-1 div.sk-container {/* jupyter's `normalize.less` sets `[hidden] { display: none; }` but bootstrap.min.css set `[hidden] { display: none !important; }` so we also need the `!important` here to be able to override the default hidden behavior on the sphinx rendered scikit-learn.org. See: https://github.com/scikit-learn/scikit-learn/issues/21755 */display: inline-block !important;position: relative;}#sk-container-id-1 div.sk-text-repr-fallback {display: none;}</style><div id=\"sk-container-id-1\" class=\"sk-top-container\"><div class=\"sk-text-repr-fallback\"><pre>GridSearchCV(cv=5, estimator=RandomForestRegressor(),\n",
       "             param_grid={&#x27;criterion&#x27;: [&#x27;squared_error&#x27;, &#x27;absolute_error&#x27;,\n",
       "                                       &#x27;friedman_mse&#x27;, &#x27;poisson&#x27;]},\n",
       "             scoring=&#x27;accuracy&#x27;)</pre><b>In a Jupyter environment, please rerun this cell to show the HTML representation or trust the notebook. <br />On GitHub, the HTML representation is unable to render, please try loading this page with nbviewer.org.</b></div><div class=\"sk-container\" hidden><div class=\"sk-item sk-dashed-wrapped\"><div class=\"sk-label-container\"><div class=\"sk-label sk-toggleable\"><input class=\"sk-toggleable__control sk-hidden--visually\" id=\"sk-estimator-id-1\" type=\"checkbox\" ><label for=\"sk-estimator-id-1\" class=\"sk-toggleable__label sk-toggleable__label-arrow\">GridSearchCV</label><div class=\"sk-toggleable__content\"><pre>GridSearchCV(cv=5, estimator=RandomForestRegressor(),\n",
       "             param_grid={&#x27;criterion&#x27;: [&#x27;squared_error&#x27;, &#x27;absolute_error&#x27;,\n",
       "                                       &#x27;friedman_mse&#x27;, &#x27;poisson&#x27;]},\n",
       "             scoring=&#x27;accuracy&#x27;)</pre></div></div></div><div class=\"sk-parallel\"><div class=\"sk-parallel-item\"><div class=\"sk-item\"><div class=\"sk-label-container\"><div class=\"sk-label sk-toggleable\"><input class=\"sk-toggleable__control sk-hidden--visually\" id=\"sk-estimator-id-2\" type=\"checkbox\" ><label for=\"sk-estimator-id-2\" class=\"sk-toggleable__label sk-toggleable__label-arrow\">estimator: RandomForestRegressor</label><div class=\"sk-toggleable__content\"><pre>RandomForestRegressor()</pre></div></div></div><div class=\"sk-serial\"><div class=\"sk-item\"><div class=\"sk-estimator sk-toggleable\"><input class=\"sk-toggleable__control sk-hidden--visually\" id=\"sk-estimator-id-3\" type=\"checkbox\" ><label for=\"sk-estimator-id-3\" class=\"sk-toggleable__label sk-toggleable__label-arrow\">RandomForestRegressor</label><div class=\"sk-toggleable__content\"><pre>RandomForestRegressor()</pre></div></div></div></div></div></div></div></div></div></div>"
      ],
      "text/plain": [
       "GridSearchCV(cv=5, estimator=RandomForestRegressor(),\n",
       "             param_grid={'criterion': ['squared_error', 'absolute_error',\n",
       "                                       'friedman_mse', 'poisson']},\n",
       "             scoring='accuracy')"
      ]
     },
     "execution_count": 14,
     "metadata": {},
     "output_type": "execute_result"
    }
   ],
   "source": [
    "forest_regressor=GridSearchCV(regressor,paramaters,scoring='accuracy',cv=5)\n",
    "forest_regressor.fit(x_train,y_train)"
   ]
  },
  {
   "cell_type": "code",
   "execution_count": 15,
   "id": "aded7f98",
   "metadata": {
    "execution": {
     "iopub.execute_input": "2024-08-14T17:37:17.756644Z",
     "iopub.status.busy": "2024-08-14T17:37:17.756253Z",
     "iopub.status.idle": "2024-08-14T17:37:17.763155Z",
     "shell.execute_reply": "2024-08-14T17:37:17.762133Z"
    },
    "papermill": {
     "duration": 0.019784,
     "end_time": "2024-08-14T17:37:17.765502",
     "exception": false,
     "start_time": "2024-08-14T17:37:17.745718",
     "status": "completed"
    },
    "tags": []
   },
   "outputs": [
    {
     "data": {
      "text/plain": [
       "{'criterion': 'squared_error'}"
      ]
     },
     "execution_count": 15,
     "metadata": {},
     "output_type": "execute_result"
    }
   ],
   "source": [
    "forest_regressor.best_params_"
   ]
  },
  {
   "cell_type": "code",
   "execution_count": 16,
   "id": "c78b64fa",
   "metadata": {
    "execution": {
     "iopub.execute_input": "2024-08-14T17:37:17.788592Z",
     "iopub.status.busy": "2024-08-14T17:37:17.788182Z",
     "iopub.status.idle": "2024-08-14T17:37:17.806896Z",
     "shell.execute_reply": "2024-08-14T17:37:17.805798Z"
    },
    "papermill": {
     "duration": 0.032187,
     "end_time": "2024-08-14T17:37:17.809413",
     "exception": false,
     "start_time": "2024-08-14T17:37:17.777226",
     "status": "completed"
    },
    "tags": []
   },
   "outputs": [
    {
     "data": {
      "text/plain": [
       "array([2.5059, 2.67  , 3.659 , 4.7367, 2.046 , 3.0823, 1.988 , 3.9301,\n",
       "       2.4044, 2.7461, 2.7487, 4.944 , 3.0805, 5.1905, 2.8665, 2.3718,\n",
       "       3.8483, 2.2005, 1.9309, 3.3842, 3.7197, 2.4818, 3.119 , 2.7766,\n",
       "       2.9791, 2.6508, 3.1109, 3.6881, 4.5367, 3.1306, 4.5716, 1.6992,\n",
       "       3.8904, 2.9461, 1.6461, 3.1825, 2.3037, 2.7548, 1.681 , 3.5393,\n",
       "       4.0474, 2.8215, 4.9876, 1.6149, 3.7055, 3.0658, 2.3617, 4.3561,\n",
       "       3.2627, 3.695 , 3.1818, 2.6891, 3.585 , 2.8333, 3.2048, 2.378 ,\n",
       "       2.1921, 1.5376, 2.3861, 5.4927, 1.9992, 1.8935, 3.4991, 4.1229,\n",
       "       4.3063, 2.2356, 2.0999, 1.8202, 2.983 , 3.2965, 5.1801, 8.3862,\n",
       "       2.3515, 3.3161, 2.4638, 4.5379, 2.0936, 2.4024, 1.876 , 2.4772,\n",
       "       1.8989, 5.0589, 4.7401, 2.0759, 2.5826, 3.7499, 2.3825, 2.7341,\n",
       "       6.0749, 3.1785, 2.0599, 1.8988, 1.4785, 1.8745, 1.9205, 3.3993,\n",
       "       2.0591, 3.0378, 2.7252, 5.1775, 3.3562, 2.4148, 2.0157, 6.6567,\n",
       "       3.5823, 3.0868, 3.0854, 4.8063, 4.0687, 5.4606, 3.2956, 4.3064,\n",
       "       1.8101, 1.5642, 1.7886, 3.8814, 1.9049, 1.6883, 1.9405, 2.9707,\n",
       "       1.851 , 2.0446, 3.2571, 2.2844, 3.1236, 3.0276, 2.0101, 3.3969,\n",
       "       2.8983, 2.877 , 3.5636, 4.2756, 1.8307, 1.9783, 3.1802, 2.1761,\n",
       "       2.9219, 7.6992, 2.0637, 2.7844, 3.0672, 2.8484, 2.9007, 2.6464,\n",
       "       3.2887, 2.003 , 2.1262, 3.5395, 4.3472, 3.6697, 2.1863, 2.513 ,\n",
       "       3.6546, 8.4937, 4.2627, 2.5203, 1.5202, 2.0376, 1.7984, 3.1476,\n",
       "       4.7716, 2.7525, 2.406 , 2.7001, 3.6473, 1.4716, 2.9483, 3.7729,\n",
       "       2.7479, 2.7356, 3.9391, 3.2233, 1.9506, 5.1655, 2.2996, 2.0846,\n",
       "       2.0804, 3.4615, 1.7416, 5.0321, 3.4142, 1.9462, 2.4362, 5.0544,\n",
       "       2.5429, 1.9359, 2.787 , 3.4742, 3.3924, 2.7443, 3.6495, 2.7285,\n",
       "       1.8199, 3.3827, 3.0562])"
      ]
     },
     "execution_count": 16,
     "metadata": {},
     "output_type": "execute_result"
    }
   ],
   "source": [
    "predictions=forest_regressor.predict(x_train)\n",
    "predictions.flatten()"
   ]
  },
  {
   "cell_type": "code",
   "execution_count": 17,
   "id": "e7e7df6e",
   "metadata": {
    "execution": {
     "iopub.execute_input": "2024-08-14T17:37:17.831334Z",
     "iopub.status.busy": "2024-08-14T17:37:17.830520Z",
     "iopub.status.idle": "2024-08-14T17:37:17.837258Z",
     "shell.execute_reply": "2024-08-14T17:37:17.836182Z"
    },
    "papermill": {
     "duration": 0.020973,
     "end_time": "2024-08-14T17:37:17.840221",
     "exception": false,
     "start_time": "2024-08-14T17:37:17.819248",
     "status": "completed"
    },
    "tags": []
   },
   "outputs": [
    {
     "name": "stdout",
     "output_type": "stream",
     "text": [
      "91.39996185963068\n"
     ]
    }
   ],
   "source": [
    "from sklearn.metrics import r2_score\n",
    "score=r2_score(y_train,predictions)\n",
    "print(score*100)"
   ]
  },
  {
   "cell_type": "code",
   "execution_count": null,
   "id": "24a312c8",
   "metadata": {
    "papermill": {
     "duration": 0.009685,
     "end_time": "2024-08-14T17:37:17.859858",
     "exception": false,
     "start_time": "2024-08-14T17:37:17.850173",
     "status": "completed"
    },
    "tags": []
   },
   "outputs": [],
   "source": []
  },
  {
   "cell_type": "code",
   "execution_count": null,
   "id": "3db4ac2c",
   "metadata": {
    "papermill": {
     "duration": 0.009598,
     "end_time": "2024-08-14T17:37:17.879326",
     "exception": false,
     "start_time": "2024-08-14T17:37:17.869728",
     "status": "completed"
    },
    "tags": []
   },
   "outputs": [],
   "source": []
  }
 ],
 "metadata": {
  "kaggle": {
   "accelerator": "none",
   "dataSources": [
    {
     "datasetId": 4199763,
     "sourceId": 7248959,
     "sourceType": "datasetVersion"
    }
   ],
   "isGpuEnabled": false,
   "isInternetEnabled": true,
   "language": "python",
   "sourceType": "notebook"
  },
  "kernelspec": {
   "display_name": "Python 3 (ipykernel)",
   "language": "python",
   "name": "python3"
  },
  "language_info": {
   "codemirror_mode": {
    "name": "ipython",
    "version": 3
   },
   "file_extension": ".py",
   "mimetype": "text/x-python",
   "name": "python",
   "nbconvert_exporter": "python",
   "pygments_lexer": "ipython3",
   "version": "3.10.13"
  },
  "papermill": {
   "default_parameters": {},
   "duration": 13.932957,
   "end_time": "2024-08-14T17:37:18.510865",
   "environment_variables": {},
   "exception": null,
   "input_path": "__notebook__.ipynb",
   "output_path": "__notebook__.ipynb",
   "parameters": {},
   "start_time": "2024-08-14T17:37:04.577908",
   "version": "2.5.0"
  }
 },
 "nbformat": 4,
 "nbformat_minor": 5
}
